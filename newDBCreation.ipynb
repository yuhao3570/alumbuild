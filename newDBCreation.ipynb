{
 "cells": [
  {
   "cell_type": "code",
   "execution_count": null,
   "metadata": {},
   "outputs": [],
   "source": [
    "import sys\n",
    "sys.executable"
   ]
  },
  {
   "cell_type": "code",
   "execution_count": null,
   "metadata": {},
   "outputs": [],
   "source": [
    "# alumDB2019SP\n",
    "\n",
    "import mysql.connector\n",
    "import alumDB.database as DB\n",
    "import csv\n",
    "\n",
    "'''\n",
    "Note that this code contains steps for alumDB update in 2018, some\n",
    "steps may be unnecessary in future years.\n",
    "'''\n",
    "# access mysql\n",
    "alumDB = mysql.connector.connect(\n",
    "    host=\"localhost\",\n",
    "    user=\"root\",\n",
    "    passwd=\"Yuhao123\"\n",
    ")\n",
    "\n",
    "cursor = alumDB.cursor()\n",
    "\n",
    "DB.createDB(cursor, 'alumDB2019SP')  # remember to update db name yearly\n",
    "\n",
    "# check databases\n",
    "cursor.execute(\"SHOW DATABASES\")\n",
    "for x in cursor:\n",
    "    print(x)\n",
    "\n",
    "DB.useAlumDB(cursor, 'alumDB2019SP')\n",
    "\n",
    "# create tables\n",
    "DB.executeScriptsFromFile(cursor, \"alumDB/PersonTable.sql\")\n",
    "DB.executeScriptsFromFile(cursor, \"alumDB/NameTable.sql\")\n",
    "DB.executeScriptsFromFile(cursor, \"alumDB/LinkedIn_profileTable.sql\")\n",
    "DB.executeScriptsFromFile(cursor, \"alumDB/ExperienceTable.sql\")\n",
    "DB.executeScriptsFromFile(cursor, \"alumDB/EducationTable.sql\")\n",
    "DB.executeScriptsFromFile(cursor, \"alumDB/SkillTable.sql\")\n",
    "cursor.execute(\"commit\")"
   ]
  },
  {
   "cell_type": "code",
   "execution_count": null,
   "metadata": {},
   "outputs": [],
   "source": [
    "# Step 1\n",
    "DB.copy_Table(cursor, \"alumniTest.person\", \"alumDB2019SP.person\")\n",
    "DB.copy_Table(cursor, \"alumniTest.name_table\", \"alumDB2019SP.name_table\")"
   ]
  },
  {
   "cell_type": "code",
   "execution_count": null,
   "metadata": {},
   "outputs": [],
   "source": [
    "# person table\n",
    "# insert into tables\n",
    "# insert into person table\n",
    "with open(\"inserting_to_alumDB_18/newperson.csv\") as csvfile:\n",
    "    reader = csv.reader(csvfile, delimiter=',')\n",
    "    names = list(reader)\n",
    "    # print(names)\n",
    "# print((names[1]))\n",
    "for person in names[1:]:\n",
    "    print((person[0]))\n",
    "    sql = \"INSERT INTO alumDB2019SP.person (pID, first_name, last_name, email, subject_field, degree, deg_start_month, deg_start_year, deg_end_month, deg_end_year, deg_received) VALUES (%s, %s, %s, %s, %s, %s, %s, %s, %s, %s, %s)\"\n",
    "    val = (int(person[0]), person[1], person[2], person[3], person[4], person[5], person[6], person[7], person[8], person[9], person[10])\n",
    "\n",
    "    cursor.execute(sql, val)\n",
    "cursor.execute(\"commit\")\n"
   ]
  },
  {
   "cell_type": "code",
   "execution_count": null,
   "metadata": {},
   "outputs": [],
   "source": [
    "# # insert into linkedin_profile table\n",
    "with open(\"inserting_to_alumDB_18/linkedIn_profile.csv\") as csvfile:\n",
    "    reader = csv.reader(csvfile, delimiter=',')\n",
    "    files = list(reader)\n",
    "    # print(names)\n",
    "for person in files[1:]:\n",
    "    print((person[0]))\n",
    "    sql = \"INSERT INTO alumDB2019SP.linkedin_profile (pID, headline, location, summary, url, url_checked, url_added_manually, no_linkedin_known, url_changed, last_date_scraped) VALUES (%s, %s, %s, %s, %s, %s, %s, %s, %s, %s)\"\n",
    "    val = (int(person[0]), person[1], person[2], person[3], person[4], person[5], person[6], person[7], person[8], person[9])\n",
    "\n",
    "    cursor.execute(sql, val)\n",
    "cursor.execute(\"commit\")"
   ]
  },
  {
   "cell_type": "code",
   "execution_count": null,
   "metadata": {},
   "outputs": [],
   "source": [
    "# insert into education table\n",
    "with open(\"inserting_to_alumDB_18/educations.csv\") as csvfile:\n",
    "    reader = csv.reader(csvfile, delimiter=',')\n",
    "    edus = list(reader)\n",
    "    print(edus[1])\n",
    "for edu in edus[1:]:\n",
    "    sql = \"INSERT INTO alumDB2019SP.education (pID, dummy_index, school_name, subject_field, degree, deg_start_year, deg_end_year, deg_received, edu_source) VALUES ( %s, %s, %s, %s, %s, %s, %s, %s, %s)\"\n",
    "    val = (edu[0], edu[1], edu[2], edu[3], edu[4], edu[5], edu[6], edu[7], edu[8])\n",
    "    cursor.execute(sql, val)\n",
    "cursor.execute(\"commit\")"
   ]
  },
  {
   "cell_type": "code",
   "execution_count": null,
   "metadata": {},
   "outputs": [],
   "source": [
    "# insert into experience table\n",
    "with open(\"inserting_to_alumDB_18/experiences.csv\") as csvfile:\n",
    "    reader = csv.reader(csvfile, delimiter=',')\n",
    "    exps = list(reader)\n",
    "    print(exps[1])\n",
    "for exp in exps[1:]:\n",
    "    sql = \"INSERT INTO alumDB_18.experience (pID, pos_title, company_name, pos_summary, pos_start_month, pos_start_year, pos_end_month, pos_end_year, location, exp_source) VALUES ( %s, %s, %s, %s, %s, %s, %s, %s, %s, %s)\"\n",
    "    val = (exp[0], exp[1], exp[2], exp[3], exp[4], exp[5], exp[6], exp[7], exp[8], exp[9])\n",
    "    cursor.execute(sql, val)\n",
    "cursor.execute(\"commit\")"
   ]
  },
  {
   "cell_type": "code",
   "execution_count": null,
   "metadata": {},
   "outputs": [],
   "source": [
    "# # insert into skill table\n",
    "with open(\"inserting_to_alumDB_18/skills.csv\") as csvfile:\n",
    "    reader = csv.reader(csvfile, delimiter=',')\n",
    "    skills = list(reader)\n",
    "    print(skills[1])\n",
    "for skill in skills[1:]:\n",
    "    sql = \"INSERT INTO alumDB2019SP.skill (pID, skill_name, endorsement, skill_source) VALUES ( %s, %s, %s, %s)\"\n",
    "    val = (skill[0], skill[1], skill[2], skill[3])\n",
    "    cursor.execute(sql, val)\n",
    "cursor.execute(\"commit\")"
   ]
  }
 ],
 "metadata": {
  "kernelspec": {
   "display_name": "Python 3",
   "language": "python",
   "name": "python3"
  },
  "language_info": {
   "codemirror_mode": {
    "name": "ipython",
    "version": 3
   },
   "file_extension": ".py",
   "mimetype": "text/x-python",
   "name": "python",
   "nbconvert_exporter": "python",
   "pygments_lexer": "ipython3",
   "version": "3.6.8"
  }
 },
 "nbformat": 4,
 "nbformat_minor": 2
}
